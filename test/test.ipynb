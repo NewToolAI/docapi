{
 "cells": [
  {
   "cell_type": "code",
   "execution_count": 1,
   "metadata": {},
   "outputs": [
    {
     "data": {
      "text/plain": [
       "True"
      ]
     },
     "execution_count": 1,
     "metadata": {},
     "output_type": "execute_result"
    }
   ],
   "source": [
    "import sys\n",
    "sys.path.insert(0, '../docapi')\n",
    "\n",
    "from dotenv import load_dotenv\n",
    "\n",
    "from llm import llm_builder\n",
    "from prompt import doc_prompt\n",
    "from scanner import flask_scanner\n",
    "\n",
    "\n",
    "load_dotenv()"
   ]
  },
  {
   "cell_type": "code",
   "execution_count": 2,
   "metadata": {},
   "outputs": [
    {
     "data": {
      "text/plain": [
       "{'/Volumes/DATA/工作/Work/my_project/docapi/test/sub_api.py': {'url_list': ['/sub_api/names'],\n",
       "  'md5_list': ['042f7859ee5119177c8164451c457159'],\n",
       "  'code_list': ['@sub_api.route(\\'/names\\', methods=[\\'GET\\'])\\ndef get_names():\\n    return \"List of users\"\\n']},\n",
       " '/Volumes/DATA/工作/Work/my_project/docapi/test/flask_server.py': {'url_list': ['/users',\n",
       "   '/users/<int:user_id>',\n",
       "   '/users/create'],\n",
       "  'md5_list': ['3d2de1f5180f3a2558e73c252bc4aa56',\n",
       "   'e9906ee690e020ab8b2672c7f683042f',\n",
       "   '2620df460ceadf3fb0fdaba1ecc7bb37'],\n",
       "  'code_list': ['# 定义路由和视图函数\\n@app.route(\\'/users\\', methods=[\\'GET\\'])\\ndef get_users():\\n    return \"List of users\"\\n',\n",
       "   '@app.route(\\'/users/<int:user_id>\\', methods=[\\'GET\\'])\\ndef get_user(user_id):\\n    \\'\\'\\'hello world\\'\\'\\'\\n    return f\"User {user_id}\"\\n',\n",
       "   \"# 创建学生系统用户\\n@app.route('/users/create', methods=['POST'])\\ndef create_user():\\n    params = request.get_json()\\n    name = params['name']\\n    age = params['age']\\n    data = {'name': name, 'age': age}\\n\\n    return jsonify(code=0, data=data, error=None)\\n\"]}}"
      ]
     },
     "execution_count": 2,
     "metadata": {},
     "output_type": "execute_result"
    }
   ],
   "source": [
    "routes = flask_scanner.scan('../../test/flask_server.py')\n",
    "routes"
   ]
  },
  {
   "cell_type": "code",
   "execution_count": 3,
   "metadata": {},
   "outputs": [],
   "source": [
    "llm = llm_builder.build_llm()"
   ]
  },
  {
   "cell_type": "code",
   "execution_count": 5,
   "metadata": {},
   "outputs": [
    {
     "name": "stdout",
     "output_type": "stream",
     "text": [
      "### 参数: \n",
      "- `name` (string): 学生的姓名，必填。\n",
      "- `age` (integer): 学生的年龄，必填。\n",
      "\n",
      "### 返回值: \n",
      "- `code` (integer): 返回状态码，0表示成功。\n",
      "- `data` (object): 包含创建的用户信息，包含`name`和`age`字段。\n",
      "- `error` (string|null): 错误信息，成功时为null。\n",
      "\n",
      "### 描述: \n",
      "该接口用于创建一个新的学生系统用户。用户需要提供姓名和年龄，接口将返回创建的用户信息。\n",
      "\n",
      "### 代码示例: \n",
      "```bash\n",
      "curl -X POST http://<your_api_url>/users/create \\\n",
      "-H \"Content-Type: application/json\" \\\n",
      "-d '{\"name\": \"John Doe\", \"age\": 20}'\n",
      "```\n"
     ]
    }
   ],
   "source": [
    "res = llm(\n",
    "    model='gpt-4o-mini', \n",
    "    system=doc_prompt.system, \n",
    "    input=routes['/Volumes/DATA/工作/Work/my_project/docapi/test/flask_server.py']['code_list'][2]\n",
    "    )\n",
    "print(res)"
   ]
  },
  {
   "cell_type": "code",
   "execution_count": null,
   "metadata": {},
   "outputs": [],
   "source": []
  }
 ],
 "metadata": {
  "kernelspec": {
   "display_name": "docapi",
   "language": "python",
   "name": "python3"
  },
  "language_info": {
   "codemirror_mode": {
    "name": "ipython",
    "version": 3
   },
   "file_extension": ".py",
   "mimetype": "text/x-python",
   "name": "python",
   "nbconvert_exporter": "python",
   "pygments_lexer": "ipython3",
   "version": "3.8.20"
  }
 },
 "nbformat": 4,
 "nbformat_minor": 2
}
